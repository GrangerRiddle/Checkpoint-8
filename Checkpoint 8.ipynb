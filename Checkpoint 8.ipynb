{
 "cells": [
  {
   "cell_type": "code",
   "execution_count": null,
   "id": "2916093f",
   "metadata": {},
   "outputs": [],
   "source": [
    "# Question 1\n",
    "file = open(r\"C:\\Users\\GUERBOUB MHAMED\\Downloads\\python.txt\", \"r\")\n",
    "file.read()"
   ]
  },
  {
   "cell_type": "code",
   "execution_count": null,
   "id": "e6ae6b7e",
   "metadata": {},
   "outputs": [],
   "source": [
    "# Question 2\n",
    "file = open(r\"C:\\Users\\GUERBOUB MHAMED\\Downloads\\python.txt\", \"r\")\n",
    "n = 3\n",
    "for lines in range(n):\n",
    "    print(file.readline(), end = '')"
   ]
  },
  {
   "cell_type": "code",
   "execution_count": null,
   "id": "b076d5dd",
   "metadata": {},
   "outputs": [],
   "source": [
    "# Question 3\n",
    "file = open(r\"C:\\Users\\GUERBOUB MHAMED\\Downloads\\python.txt\", \"r\")\n",
    "data = file.readlines()\n",
    "print(data[-2:])"
   ]
  },
  {
   "cell_type": "code",
   "execution_count": 6,
   "id": "dd01f6b0",
   "metadata": {},
   "outputs": [
    {
     "name": "stdout",
     "output_type": "stream",
     "text": [
      "148\n"
     ]
    }
   ],
   "source": [
    "# Question 4\n",
    "def size_file(my_file):\n",
    "    f = my_file.read()\n",
    "    f.replace(\",\",\" \")\n",
    "    l = len(f.split(\" \"))\n",
    "    return l\n",
    "\n",
    "file = open(r\"C:\\Users\\GUERBOUB MHAMED\\Downloads\\test2.txt\",\"r\")\n",
    "print(size_file(file))"
   ]
  }
 ],
 "metadata": {
  "kernelspec": {
   "display_name": "Python 3",
   "language": "python",
   "name": "python3"
  },
  "language_info": {
   "codemirror_mode": {
    "name": "ipython",
    "version": 3
   },
   "file_extension": ".py",
   "mimetype": "text/x-python",
   "name": "python",
   "nbconvert_exporter": "python",
   "pygments_lexer": "ipython3",
   "version": "3.8.8"
  }
 },
 "nbformat": 4,
 "nbformat_minor": 5
}
